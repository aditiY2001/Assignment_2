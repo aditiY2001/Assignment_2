{
 "cells": [
  {
   "cell_type": "markdown",
   "id": "bdcc5680",
   "metadata": {},
   "source": [
    "Que1)write the following question and answer:"
   ]
  },
  {
   "cell_type": "markdown",
   "id": "edae40d2",
   "metadata": {},
   "source": [
    "1.what is the difference between set and dictionary,explain with the suitable example."
   ]
  },
  {
   "cell_type": "code",
   "execution_count": 4,
   "id": "1a43de07",
   "metadata": {},
   "outputs": [
    {
     "data": {
      "text/plain": [
       "{12, 34, 45, 67}"
      ]
     },
     "execution_count": 4,
     "metadata": {},
     "output_type": "execute_result"
    }
   ],
   "source": [
    "s1={12,34,45,67}\n",
    "s1"
   ]
  },
  {
   "cell_type": "code",
   "execution_count": 2,
   "id": "b2d0db23",
   "metadata": {},
   "outputs": [
    {
     "data": {
      "text/plain": [
       "{'name': 'sonali', 'age': '23', 'rollno': 12}"
      ]
     },
     "execution_count": 2,
     "metadata": {},
     "output_type": "execute_result"
    }
   ],
   "source": [
    "dict={'name':'sonali','age':'23','rollno':12}\n",
    "dict"
   ]
  },
  {
   "cell_type": "raw",
   "id": "26429cc8",
   "metadata": {},
   "source": [
    "2.write a program to print the following patterns.\n",
    "*\n",
    "**\n",
    "***"
   ]
  },
  {
   "cell_type": "code",
   "execution_count": 6,
   "id": "97a162c2",
   "metadata": {},
   "outputs": [
    {
     "name": "stdout",
     "output_type": "stream",
     "text": [
      "*\n",
      "**\n",
      "***\n"
     ]
    }
   ],
   "source": [
    "for i in range(3):\n",
    "    for j in range(i+1):\n",
    "        print('*',end='')\n",
    "    print()"
   ]
  },
  {
   "cell_type": "markdown",
   "id": "99071be7",
   "metadata": {},
   "source": [
    "3.write a program to print n natural number in ascending order using a while loop?"
   ]
  },
  {
   "cell_type": "code",
   "execution_count": 10,
   "id": "4c50e9b3",
   "metadata": {},
   "outputs": [
    {
     "name": "stdout",
     "output_type": "stream",
     "text": [
      "enter the number4\n",
      "0\n",
      "1\n",
      "2\n",
      "3\n",
      "4\n"
     ]
    }
   ],
   "source": [
    "i=0\n",
    "n=int(input('enter the number'))\n",
    "while i<=n:\n",
    "    print(i)\n",
    "    i=i+1"
   ]
  },
  {
   "cell_type": "markdown",
   "id": "fba7f8ea",
   "metadata": {},
   "source": [
    "4.write a program in python to swap between two numbers without using a third variable."
   ]
  },
  {
   "cell_type": "code",
   "execution_count": 13,
   "id": "6abaf2e1",
   "metadata": {},
   "outputs": [
    {
     "name": "stdout",
     "output_type": "stream",
     "text": [
      "45 23\n"
     ]
    }
   ],
   "source": [
    "# swapping\n",
    "a,b=23,45\n",
    "a,b=b,a \n",
    "print(a,b)"
   ]
  },
  {
   "cell_type": "markdown",
   "id": "5325c0e5",
   "metadata": {},
   "source": [
    "5.how to create a function with default Argument in python (example)\n"
   ]
  },
  {
   "cell_type": "code",
   "execution_count": 14,
   "id": "fea9cf99",
   "metadata": {},
   "outputs": [
    {
     "name": "stdout",
     "output_type": "stream",
     "text": [
      "Name: pooja Age: 90\n",
      "Name: lata Age: 34\n"
     ]
    }
   ],
   "source": [
    "def student(name='sonal',age=90):\n",
    "    print('Name:',name,'Age:',age)\n",
    "student('pooja')\n",
    "student('lata',34)"
   ]
  },
  {
   "cell_type": "markdown",
   "id": "512276bc",
   "metadata": {},
   "source": [
    "6.Display the square of numbers from 1 to 10 using list compreshion."
   ]
  },
  {
   "cell_type": "code",
   "execution_count": 21,
   "id": "5ac0428a",
   "metadata": {},
   "outputs": [
    {
     "data": {
      "text/plain": [
       "[0, 1, 4, 9, 16, 25, 36, 49, 64, 81, 100]"
      ]
     },
     "execution_count": 21,
     "metadata": {},
     "output_type": "execute_result"
    }
   ],
   "source": [
    "l2 = [i*i for i in range(0,11)]\n",
    "l2"
   ]
  },
  {
   "cell_type": "markdown",
   "id": "9eef28d4",
   "metadata": {},
   "source": [
    "7.what is polymorphism ?explain with example (class)"
   ]
  },
  {
   "cell_type": "code",
   "execution_count": 28,
   "id": "80ceeeef",
   "metadata": {},
   "outputs": [
    {
     "name": "stdout",
     "output_type": "stream",
     "text": [
      "hello\n"
     ]
    }
   ],
   "source": [
    "# polymorphism:it create many forms\n",
    "# method overriding\n",
    "class company:\n",
    "    def employee(self,name,age):\n",
    "        print('welcome to the office')\n",
    "        self.name=name\n",
    "        self.age=age\n",
    "    def employee(self,name,age):\n",
    "        print('hello')\n",
    "        self.name=name\n",
    "        self.age=age\n",
    "obj=company()\n",
    "obj.employee('aditi',22)"
   ]
  },
  {
   "cell_type": "markdown",
   "id": "da8d5926",
   "metadata": {},
   "source": [
    "8.Explain conditional Probability with example?"
   ]
  },
  {
   "cell_type": "raw",
   "id": "121b2755",
   "metadata": {},
   "source": [
    "Condition Probability:\n",
    "    the probability is to say the chance of  ine event happeenig is conditional on \n",
    "    another event happening.\n",
    "Example:\n",
    "    The probability that you get a six ,given that you get draw a red card is\n",
    "    p(6/red) = 2/26=1/13"
   ]
  },
  {
   "cell_type": "markdown",
   "id": "6073fc8a",
   "metadata": {},
   "source": [
    "9.explain empirical rule with diagram "
   ]
  },
  {
   "cell_type": "raw",
   "id": "992a1401",
   "metadata": {},
   "source": [
    "empirical rule is a 68%-95%-99% :\n",
    "In normal distribution ,\n",
    "68% of the observations fall within +/-1 StandardDeviation from the mean,\n",
    "95% of the observations fall within +/-2 StandardDeviation from the mean\n",
    "99% of the observations fall within +/-3  StandardDeviation from the mean\n"
   ]
  },
  {
   "cell_type": "markdown",
   "id": "46c5c8c9",
   "metadata": {},
   "source": [
    "10.what is hypothesis testing?what is role of p value in HT?"
   ]
  },
  {
   "cell_type": "raw",
   "id": "c600c8e3",
   "metadata": {},
   "source": [
    "H0:he is inocent\n",
    "H1:he is not inocent\n",
    "p:value:0.05(probability is H0 true) \n",
    "if p>0.05 Then the null hypothesis is accepted.\n",
    "if p<0.05 Then the null hypothesis is fail to reject.\n"
   ]
  },
  {
   "cell_type": "markdown",
   "id": "746c08dc",
   "metadata": {},
   "source": [
    "Que2) List all the probabilty distribution"
   ]
  },
  {
   "cell_type": "code",
   "execution_count": 45,
   "id": "866b038e",
   "metadata": {},
   "outputs": [],
   "source": [
    "import numpy as np\n",
    "import pandas as pd\n",
    "import matplotlib.pyplot as plt\n",
    "import seaborn as sns\n",
    "import scipy\n",
    "import scipy.stats as stats\n",
    "from scipy.stats import norm"
   ]
  },
  {
   "cell_type": "markdown",
   "id": "d0aebf51",
   "metadata": {},
   "source": [
    "# 1.uniform distribution \n",
    "Uniform distributions are probability distributions with equally likely outcomes. "
   ]
  },
  {
   "cell_type": "code",
   "execution_count": 52,
   "id": "798ca247",
   "metadata": {},
   "outputs": [
    {
     "data": {
      "text/plain": [
       "0.25"
      ]
     },
     "execution_count": 52,
     "metadata": {},
     "output_type": "execute_result"
    }
   ],
   "source": [
    "stats.uniform.cdf(x = 2.5,loc = 0,scale = 10)"
   ]
  },
  {
   "cell_type": "markdown",
   "id": "214ff73e",
   "metadata": {},
   "source": [
    "# 2.noraml distribution:\n",
    "Normal distribution, also known as the Gaussian distribution, \n",
    "is a probability distribution that is symmetric about the mean, \n",
    "showing that data near the mean are more frequentin occurrence than data far from the mean."
   ]
  },
  {
   "cell_type": "code",
   "execution_count": 53,
   "id": "5e4a895a",
   "metadata": {},
   "outputs": [
    {
     "data": {
      "text/plain": [
       "0.2742531177500741"
      ]
     },
     "execution_count": 53,
     "metadata": {},
     "output_type": "execute_result"
    }
   ],
   "source": [
    "stats.norm.cdf(0.280,loc=0.295,scale=0.025)"
   ]
  },
  {
   "cell_type": "markdown",
   "id": "6e8bf673",
   "metadata": {},
   "source": [
    "# 3.Binomial distribution\n",
    "Binomial distribution is calculated by multiplying the probability of \n",
    "success raised to the power of the number of successes and the probability of failure raised to \n",
    "the power of the difference between the number of successes and the number of trials."
   ]
  },
  {
   "cell_type": "code",
   "execution_count": 54,
   "id": "3aaa9f01",
   "metadata": {},
   "outputs": [
    {
     "data": {
      "text/plain": [
       "array([0.0016384, 0.0172032, 0.0774144, 0.193536 , 0.290304 , 0.2612736,\n",
       "       0.1306368, 0.0279936])"
      ]
     },
     "execution_count": 54,
     "metadata": {},
     "output_type": "execute_result"
    }
   ],
   "source": [
    "n = 7\n",
    "p = 0.6\n",
    "k = np.arange(0,8)\n",
    "k\n",
    "binomial = stats.binom.pmf(k,n,p)\n",
    "binomial   "
   ]
  },
  {
   "cell_type": "markdown",
   "id": "8a8f1fd4",
   "metadata": {},
   "source": [
    "# 4.exponential distribution\n",
    "exponential distribution is a continuous probability distribution that often concerns the amount of \n",
    "time until some specific event happens. "
   ]
  },
  {
   "cell_type": "code",
   "execution_count": 55,
   "id": "0a0d4951",
   "metadata": {},
   "outputs": [
    {
     "name": "stderr",
     "output_type": "stream",
     "text": [
      "C:\\Users\\ADMIN\\Anaconda3\\lib\\site-packages\\seaborn\\distributions.py:2619: FutureWarning: `distplot` is a deprecated function and will be removed in a future version. Please adapt your code to use either `displot` (a figure-level function with similar flexibility) or `kdeplot` (an axes-level function for kernel density plots).\n",
      "  warnings.warn(msg, FutureWarning)\n"
     ]
    },
    {
     "data": {
      "image/png": "[encoded data removed]",
      "text/plain": [
       "<Figure size 700x400 with 1 Axes>"
      ]
     },
     "metadata": {},
     "output_type": "display_data"
    }
   ],
   "source": [
    "exp = np.random.exponential(0.01,5000)\n",
    "plt.figure(figsize=(7,4))\n",
    "plt.title(\"Exponential Distribution\",fontsize=15)\n",
    "sns.distplot(exp,hist=False)\n",
    "plt.show()"
   ]
  },
  {
   "cell_type": "markdown",
   "id": "6aedbf08",
   "metadata": {},
   "source": [
    "# 5.poission distribution\n",
    "A Poisson distribution is a discrete probability distribution.\n",
    "It gives the probability of an event happening a certain number of times (k)\n",
    "within a given interval of time or space. "
   ]
  },
  {
   "cell_type": "code",
   "execution_count": 51,
   "id": "c8559fe8",
   "metadata": {},
   "outputs": [
    {
     "data": {
      "text/plain": [
       "array([4.97870684e-02, 1.49361205e-01, 2.24041808e-01, 2.24041808e-01,\n",
       "       1.68031356e-01, 1.00818813e-01, 5.04094067e-02, 2.16040315e-02,\n",
       "       8.10151179e-03, 2.70050393e-03, 8.10151179e-04, 2.20950322e-04,\n",
       "       5.52375804e-05, 1.27471339e-05, 2.73152870e-06, 5.46305740e-07,\n",
       "       1.02432326e-07, 1.80762929e-08, 3.01271548e-09, 4.75691918e-10])"
      ]
     },
     "execution_count": 51,
     "metadata": {},
     "output_type": "execute_result"
    }
   ],
   "source": [
    "rate=3\n",
    "n=np.arange(0,20)\n",
    "p=stats.poisson.pmf(n,rate)\n",
    "p"
   ]
  }
 ],
 "metadata": {
  "kernelspec": {
   "display_name": "Python 3 (ipykernel)",
   "language": "python",
   "name": "python3"
  },
  "language_info": {
   "codemirror_mode": {
    "name": "ipython",
    "version": 3
   },
   "file_extension": ".py",
   "mimetype": "text/x-python",
   "name": "python",
   "nbconvert_exporter": "python",
   "pygments_lexer": "ipython3",
   "version": "3.9.13"
  }
 },
 "nbformat": 4,
 "nbformat_minor": 5
}
